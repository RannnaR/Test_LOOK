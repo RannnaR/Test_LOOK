{
 "cells": [
  {
   "cell_type": "code",
   "execution_count": 1,
   "id": "1d94a080",
   "metadata": {},
   "outputs": [],
   "source": [
    "import pandas as pd\n",
    "import numpy as np\n",
    "from scipy.stats import t\n",
    "\n",
    "def describe_stats(series):\n",
    "    n = series.count()\n",
    "    mean = float(series.mean())\n",
    "    std = float(series.std())\n",
    "    min_ = float(series.min())\n",
    "    max_ = float(series.max())\n",
    "    range_ = max_ - min_\n",
    "    ci = None\n",
    "    if n > 1:\n",
    "        ci_margin = float(t.ppf(0.975, n-1) * (std / np.sqrt(n)))\n",
    "        ci = (mean - ci_margin, mean + ci_margin)\n",
    "    return {\n",
    "        \"Count\": n,\n",
    "        \"Mean\": round(mean, 3),\n",
    "        \"Std\": round(std, 3),\n",
    "        \"Min\": round(min_, 3),\n",
    "        \"Max\": round(max_, 3),\n",
    "        \"Range\": round(range_, 3),\n",
    "        \"95% CI\": f\"{round(ci[0], 3)} to {round(ci[1], 3)}\" if ci else \"N/A\"\n",
    "    }\n",
    "\n",
    "def summarize_dataframe_global(df, name=\"Data\"):\n",
    "    print(f\"\\n====== {name} ======\")\n",
    "    # Only columns that are numeric and do NOT contain 'Excluded' in their name\n",
    "    cols = [\n",
    "        col for col in df.select_dtypes(include=[np.number]).columns\n",
    "        if 'Excluded' not in col\n",
    "    ]\n",
    "    for col in cols:\n",
    "        print(f\"\\n--- {col} ---\")\n",
    "        stats = describe_stats(df[col])\n",
    "        for k, v in stats.items():\n",
    "            print(f\"{k:>12}: {v}\")\n"
   ]
  },
  {
   "cell_type": "code",
   "execution_count": 2,
   "id": "95eae3b9",
   "metadata": {},
   "outputs": [
    {
     "name": "stdout",
     "output_type": "stream",
     "text": [
      "\n",
      "====== Blink Rate by Participant ======\n",
      "\n",
      "--- Global Mean Blink Rate (EOG) ---\n",
      "       Count: 10\n",
      "        Mean: 11.607\n",
      "         Std: 2.661\n",
      "         Min: 7.629\n",
      "         Max: 16.754\n",
      "       Range: 9.125\n",
      "      95% CI: 9.703 to 13.511\n",
      "\n",
      "--- Global Mean Blink Rate (Tobii) ---\n",
      "       Count: 10\n",
      "        Mean: 10.657\n",
      "         Std: 3.528\n",
      "         Min: 5.774\n",
      "         Max: 18.708\n",
      "       Range: 12.934\n",
      "      95% CI: 8.133 to 13.18\n",
      "\n",
      "--- Global Mean Avg Blink Rate ---\n",
      "       Count: 10\n",
      "        Mean: 11.132\n",
      "         Std: 3.014\n",
      "         Min: 6.701\n",
      "         Max: 17.731\n",
      "       Range: 11.03\n",
      "      95% CI: 8.976 to 13.288\n",
      "\n",
      "--- OSDI-6 ---\n",
      "       Count: 10\n",
      "        Mean: 3.2\n",
      "         Std: 1.932\n",
      "         Min: 1.0\n",
      "         Max: 6.0\n",
      "       Range: 5.0\n",
      "      95% CI: 1.818 to 4.582\n"
     ]
    }
   ],
   "source": [
    "# Example for 'blink_rate_by_participant.xlsx'\n",
    "df = pd.read_excel('blink_rate_by_participant.xlsx')\n",
    "summarize_dataframe_global(df, name='Blink Rate by Participant')\n"
   ]
  },
  {
   "cell_type": "code",
   "execution_count": 3,
   "id": "be73830d",
   "metadata": {},
   "outputs": [
    {
     "name": "stdout",
     "output_type": "stream",
     "text": [
      "\n",
      "====== Temperature & Humidity ======\n",
      "\n",
      "--- avg humidity ---\n",
      "       Count: 10\n",
      "        Mean: 51.633\n",
      "         Std: 7.273\n",
      "         Min: 42.067\n",
      "         Max: 62.217\n",
      "       Range: 20.15\n",
      "      95% CI: 46.43 to 56.835\n",
      "\n",
      "--- avg temperature ---\n",
      "       Count: 10\n",
      "        Mean: 23.125\n",
      "         Std: 1.256\n",
      "         Min: 21.557\n",
      "         Max: 24.775\n",
      "       Range: 3.218\n",
      "      95% CI: 22.227 to 24.024\n",
      "\n",
      "====== MBI Summary ======\n",
      "\n",
      "--- MBI Value (Longest Gap, s) ---\n",
      "       Count: 44\n",
      "        Mean: 12.962\n",
      "         Std: 10.894\n",
      "         Min: 0.407\n",
      "         Max: 42.857\n",
      "       Range: 42.45\n",
      "      95% CI: 9.65 to 16.274\n",
      "\n",
      "--- Translation (s) ---\n",
      "       Count: 42\n",
      "        Mean: 0.14\n",
      "         Std: 0.064\n",
      "         Min: -0.18\n",
      "         Max: 0.24\n",
      "       Range: 0.42\n",
      "      95% CI: 0.12 to 0.16\n"
     ]
    }
   ],
   "source": [
    "df_temp = pd.read_excel('temperature_participant_summary.xlsx')\n",
    "summarize_dataframe_global(df_temp, name='Temperature & Humidity')\n",
    "\n",
    "df_mbi = pd.read_excel('blink_MBI_analysis_summary.xlsx')\n",
    "summarize_dataframe_global(df_mbi, name='MBI Summary')\n"
   ]
  }
 ],
 "metadata": {
  "kernelspec": {
   "display_name": "Python 3",
   "language": "python",
   "name": "python3"
  },
  "language_info": {
   "codemirror_mode": {
    "name": "ipython",
    "version": 3
   },
   "file_extension": ".py",
   "mimetype": "text/x-python",
   "name": "python",
   "nbconvert_exporter": "python",
   "pygments_lexer": "ipython3",
   "version": "3.11.9"
  }
 },
 "nbformat": 4,
 "nbformat_minor": 5
}
